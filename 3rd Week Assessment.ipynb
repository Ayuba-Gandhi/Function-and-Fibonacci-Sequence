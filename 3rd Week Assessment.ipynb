{
 "cells": [
  {
   "cell_type": "code",
   "execution_count": 3,
   "id": "f2bcce12",
   "metadata": {},
   "outputs": [
    {
     "name": "stdout",
     "output_type": "stream",
     "text": [
      "Grade is: C\n"
     ]
    }
   ],
   "source": [
    "#This program calculates the average grade of a student based on their scores in multiple subjects.\n",
    "def calculate_average_grade(score1, score2, score3):\n",
    "    total = score1 + score2 + score3\n",
    "    average = total / 3\n",
    "    if average >= 90 and average <= 100:\n",
    "        grade = \"A1\"\n",
    "    elif average >= 80 and average <= 89:\n",
    "        grade = \"A2\"\n",
    "    elif average >= 70 and average <= 79:\n",
    "        grade = \"B1\"\n",
    "    elif average >= 60  and average <= 69:\n",
    "        grade = \"B2\"\n",
    "    elif average >= 50 and average <= 59:\n",
    "        grade = \"C\"\n",
    "    elif average >= 40 and average <= 49:\n",
    "        grade = \"D\"\n",
    "    else:\n",
    "        grade = \"F\"\n",
    "    return grade\n",
    "\n",
    "student_score = calculate_average_grade(50, 60, 40)\n",
    "print(\"Grade is:\", student_score)"
   ]
  },
  {
   "cell_type": "code",
   "execution_count": 6,
   "id": "22e6cc2f",
   "metadata": {},
   "outputs": [
    {
     "name": "stdout",
     "output_type": "stream",
     "text": [
      "0\n",
      "1\n",
      "1\n",
      "2\n",
      "3\n",
      "5\n",
      "8\n",
      "13\n",
      "21\n",
      "34\n",
      "55\n",
      "89\n",
      "144\n",
      "233\n",
      "377\n",
      "610\n",
      "987\n",
      "1597\n",
      "2584\n"
     ]
    }
   ],
   "source": [
    "#This program implements the function fibonacci_sequence using recursion and tests the function by calling it with different values of n and printing the returned list.\n",
    "def fibonacci_sequence(n):\n",
    "    if n == 1:\n",
    "        return 0\n",
    "    if n == 2:\n",
    "        return 1\n",
    "    \n",
    "    return fibonacci_sequence(n-1)+fibonacci_sequence(n-2)\n",
    "\n",
    "for m in range(1,20):\n",
    "    print(fibonacci_sequence(m))"
   ]
  },
  {
   "cell_type": "code",
   "execution_count": null,
   "id": "da676c02",
   "metadata": {},
   "outputs": [],
   "source": []
  }
 ],
 "metadata": {
  "kernelspec": {
   "display_name": "Python 3 (ipykernel)",
   "language": "python",
   "name": "python3"
  },
  "language_info": {
   "codemirror_mode": {
    "name": "ipython",
    "version": 3
   },
   "file_extension": ".py",
   "mimetype": "text/x-python",
   "name": "python",
   "nbconvert_exporter": "python",
   "pygments_lexer": "ipython3",
   "version": "3.11.5"
  }
 },
 "nbformat": 4,
 "nbformat_minor": 5
}
